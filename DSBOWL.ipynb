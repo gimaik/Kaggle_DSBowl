{
 "cells": [
  {
   "cell_type": "code",
   "execution_count": 1,
   "metadata": {},
   "outputs": [
    {
     "name": "stderr",
     "output_type": "stream",
     "text": [
      "/usr/local/lib/python3.5/dist-packages/h5py/__init__.py:36: FutureWarning: Conversion of the second argument of issubdtype from `float` to `np.floating` is deprecated. In future, it will be treated as `np.float64 == np.dtype(float).type`.\n",
      "  from ._conv import register_converters as _register_converters\n",
      "Using TensorFlow backend.\n"
     ]
    }
   ],
   "source": [
    "import numpy as np\n",
    "import pandas as pd\n",
    "import scipy as sp\n",
    "import tensorflow as tf\n",
    "import keras as K\n",
    "import sklearn as sk\n",
    "import matplotlib.pyplot as plt\n",
    "\n",
    "import cv2\n",
    "import shutil\n",
    "import os\n",
    "import warnings\n",
    "\n",
    "from keras.preprocessing.image import ImageDataGenerator\n",
    "from sklearn.model_selection import train_test_split\n",
    "from skimage.io import imread\n",
    "from skimage.transform import resize\n",
    "from skimage.morphology import label\n",
    "from tqdm import tqdm"
   ]
  },
  {
   "cell_type": "markdown",
   "metadata": {},
   "source": [
    "## Global Variables"
   ]
  },
  {
   "cell_type": "code",
   "execution_count": 2,
   "metadata": {},
   "outputs": [],
   "source": [
    "TRAIN_PATH = './input/stage1_train/'\n",
    "TEST_PATH = './input/stage1_test/'\n",
    "LOGDIR = './logdir/unet_unaugment_relu/'\n",
    "PARAMS = './params/'\n",
    "TRAIN_ID = os.listdir(TRAIN_PATH)\n",
    "TEST_ID = os.listdir(TEST_PATH)\n",
    "DIMENSION = (128, 128, 3)"
   ]
  },
  {
   "cell_type": "markdown",
   "metadata": {},
   "source": [
    "## Preprocessing and Relevant Helper Functions"
   ]
  },
  {
   "cell_type": "code",
   "execution_count": 3,
   "metadata": {},
   "outputs": [],
   "source": [
    "def load_image(path, data_id, dimension, train=True, resize_bool=True):\n",
    "    \n",
    "    images = []\n",
    "    masks_final = []    \n",
    "    (img_width, img_height, img_channel) = dimension    \n",
    "    \n",
    "    if train:    \n",
    "        for img_id in tqdm(data_id):    \n",
    "            image_path = os.path.join(path, img_id, 'images', img_id)\n",
    "            img = imread(image_path + '.png')[:,:,:img_channel]/ 255.0\n",
    "\n",
    "            if resize_bool:\n",
    "                img = resize(img, (img_width, img_height), preserve_range=True)          \n",
    "            images.append(img)        \n",
    "        \n",
    "            mask_path = os.path.join(path, img_id, 'masks')\n",
    "            mask_ids = os.listdir(mask_path)\n",
    "            masks = []\n",
    "            for mask_id in mask_ids:\n",
    "                mask = np.expand_dims(imread(mask_path + '/' + mask_id), -1)\n",
    "                masks.append(mask)\n",
    "\n",
    "            masks = np.max(np.array(masks),0)/ 255.0\n",
    "            if resize_bool:\n",
    "                masks = resize(masks, (img_width, img_height), preserve_range=True)            \n",
    "            masks_final.append(masks)\n",
    "        \n",
    "        return np.array(images).astype(np.float32), np.array(masks_final).astype(np.float32)\n",
    "    \n",
    "    else:        \n",
    "        for img_id in tqdm(data_id):    \n",
    "            image_path = os.path.join(path, img_id, 'images', img_id)\n",
    "            img = imread(image_path + '.png')[:,:,:img_channel]/ 255.0\n",
    "\n",
    "            if resize_bool:\n",
    "                img = resize(img, (img_width, img_height), preserve_range=True)          \n",
    "            images.append(img)\n",
    "            \n",
    "        return np.array(images).astype(np.float32)\n",
    "    \n",
    "def image_resize(image, img_size):    \n",
    "    image_new = np.zeros((image.shape[0], img_size, img_size, image.shape[3]))                         \n",
    "    for i in range(image.shape[0]):\n",
    "        image_new[i]=cv2.resize(image[i],(img_size, img_size), interpolation = cv2.INTER_LINEAR)    \n",
    "    return image_new\n",
    "\n",
    "\n",
    "def mask_post_process(path, data_id, dimension, preds):\n",
    "    \n",
    "    masks = []    \n",
    "    (img_width, img_height, img_channel) = dimension\n",
    "    \n",
    "    df = pd.DataFrame()\n",
    " \n",
    "    for k, img_id in enumerate(data_id):    \n",
    "        image_path = os.path.join(path, img_id, 'images', img_id)\n",
    "        img = imread(image_path + '.png')[:,:,:img_channel]/ 255.0\n",
    "        mask = resize(preds[k, :, :, :], (img.shape[0], img.shape[1]),\n",
    "                      mode='constant', preserve_range=True)\n",
    "        #ask = mask.astype(np.uint8)\n",
    "        masks.append(mask)\n",
    "    \n",
    "    return masks\n",
    "\n",
    "\n",
    "# Run-length encoding stolen from https://www.kaggle.com/rakhlin/fast-run-length-encoding-python\n",
    "\n",
    "def rle_encoding(x):\n",
    "    dots = np.where(x.T.flatten() == 1)[0]\n",
    "    run_lengths = []\n",
    "    prev = -2\n",
    "    for b in dots:\n",
    "        if (b>prev+1): run_lengths.extend((b + 1, 0))\n",
    "        run_lengths[-1] += 1\n",
    "        prev = b\n",
    "    return run_lengths\n",
    "\n",
    "def prob_to_rles(x, cutoff=0):\n",
    "    lab_img = label(x > cutoff)\n",
    "    for i in range(1, lab_img.max() + 1):\n",
    "        yield rle_encoding(lab_img == i)\n",
    "\n"
   ]
  },
  {
   "cell_type": "code",
   "execution_count": 4,
   "metadata": {
    "scrolled": true
   },
   "outputs": [
    {
     "name": "stderr",
     "output_type": "stream",
     "text": [
      "  0%|          | 0/670 [00:00<?, ?it/s]/usr/local/lib/python3.5/dist-packages/skimage/transform/_warps.py:84: UserWarning: The default mode, 'constant', will be changed to 'reflect' in skimage 0.15.\n",
      "  warn(\"The default mode, 'constant', will be changed to 'reflect' in \"\n",
      "100%|██████████| 670/670 [00:32<00:00, 20.60it/s]\n",
      "100%|██████████| 65/65 [00:00<00:00, 116.10it/s]\n"
     ]
    }
   ],
   "source": [
    "X_train, y_train = load_image(TRAIN_PATH, TRAIN_ID, DIMENSION)\n",
    "X_test = load_image(TEST_PATH, TEST_ID, DIMENSION, False, True)"
   ]
  },
  {
   "cell_type": "code",
   "execution_count": 5,
   "metadata": {},
   "outputs": [],
   "source": [
    "# index = np.random.choice(X_train.shape[0], size = 6)\n",
    "# for i in index:\n",
    "#     plt.imshow(X_train[i,:,:,:], cmap='plasma')\n",
    "#     plt.show()\n",
    "\n",
    "\n",
    "# # plt.imshow(y_train[125,:,:,0], cmap='gray')\n",
    "# # plt.show()"
   ]
  },
  {
   "cell_type": "markdown",
   "metadata": {},
   "source": [
    "## Class for Model"
   ]
  },
  {
   "cell_type": "code",
   "execution_count": 6,
   "metadata": {},
   "outputs": [],
   "source": [
    "class u_net():\n",
    "    \n",
    "    def __init__(self, learning_rate, batch_size, epochs, dimension):\n",
    "        self.graph = tf.Graph()\n",
    "        self.learning_rate = learning_rate\n",
    "        self.epochs = epochs\n",
    "        self.batch_size = batch_size\n",
    "        self.dimension = dimension\n",
    "        self.activation = tf.nn.crelu\n",
    "        self.width = self.dimension[0]\n",
    "        self.height = self.dimension[1]\n",
    "        self.channel = self.dimension[2]\n",
    "        self.global_step = tf.Variable(0, name='global_step', dtype=tf.int32, trainable=False)\n",
    "        \n",
    "    def _input_data(self):\n",
    "        with tf.name_scope('input'):\n",
    "            self.x = tf.placeholder(dtype=tf.float32,\n",
    "                           shape=[None, self.width, self.height, self.channel], \n",
    "                           name='input_x')\n",
    "            self.y = tf.placeholder(dtype=tf.float32,\n",
    "                           shape=[None, self.width, self.height, 1],\n",
    "                           name='label_y')\n",
    "            \n",
    "            #self.learning_rate = tf.placeholder(dtype=tf.float32, name = 'lr')\n",
    "            \n",
    "            tf.summary.image(tensor=self.x, name='sample_input')\n",
    "            tf.summary.image(tensor=self.y, name='sample_mask')\n",
    "    \n",
    "    \n",
    "    def _cyclic_lr(self, iterations, base_lr=1e-3, max_lr=6e-3, step_size=500, gamma=0.995):        \n",
    "        cycle = np.floor(1+iterations/(2*step_size))\n",
    "        x = np.abs(iterations/step_size - 2*cycle + 1)\n",
    "        lr= base_lr + (max_lr-base_lr)*np.maximum(0, (1-x))*gamma**(iterations)\n",
    "        return lr        \n",
    "    \n",
    "    \n",
    "    def _image_augmentation(self, train_data, batch_size = 32, train = True, seed = 123):\n",
    "        \n",
    "        datagen_gen_args = dict(rotation_range=30, \n",
    "                                width_shift_range=0.3, \n",
    "                                height_shift_range=0.3, \n",
    "                                shear_range=0.3, \n",
    "                                zoom_range=0.4, \n",
    "                                horizontal_flip=True,\n",
    "                                vertical_flip=True)\n",
    "        \n",
    "        X_gen = ImageDataGenerator(**datagen_gen_args)\n",
    "        y_gen = ImageDataGenerator(**datagen_gen_args)\n",
    "        \n",
    "        X_gen.fit(train_data[0], augment=True, seed=seed)\n",
    "        y_gen.fit(train_data[1], augment=True, seed=seed)\n",
    "        \n",
    "        X_generator = X_gen.flow(train_data[0], seed=seed)\n",
    "        y_generator = y_gen.flow(train_data[1], seed=seed)\n",
    "        return zip(X_generator, y_generator)\n",
    "    \n",
    "            \n",
    "    def _batch_gen(self, data, batch_size=32, train=True, shuffle=True):\n",
    "\n",
    "        if train:\n",
    "            X = data[0]\n",
    "            y = data[1]\n",
    "\n",
    "            if shuffle:\n",
    "                perm = np.random.permutation(X.shape[0])\n",
    "                X, y = X[perm, :, :, :], y[perm, :, :, :]\n",
    "\n",
    "            for i in range(0, X.shape[0], batch_size):\n",
    "                yield (X[i:i+batch_size,:,:,:], y[i:i+batch_size,:,:,:])\n",
    "        else:\n",
    "            X = data\n",
    "            print(type(X))\n",
    "            for i in range(0, X.shape[0], batch_size):\n",
    "                yield X[i:i+batch_size,:,:,:]   \n",
    "\n",
    "                \n",
    "    \n",
    "    def _unet_conv(self, inputs, filters, kernel_size, dilation_rate=(1,1), pooling=True, name='conv_unit'):\n",
    "        with tf.name_scope(name):\n",
    "            a1 = tf.layers.Conv2D(filters = filters, \n",
    "                                  kernel_size = kernel_size, \n",
    "                                  strides = (1,1),\n",
    "                                  dilation_rate=dilation_rate, \n",
    "                                  padding = 'SAME', \n",
    "                                  activation = self.activation, \n",
    "                                  kernel_initializer = tf.glorot_normal_initializer(),\n",
    "                                  bias_initializer = tf.random_uniform_initializer()\n",
    "                                 )(inputs=inputs)\n",
    "            \n",
    "            a1 = tf.layers.BatchNormalization()(a1)\n",
    "    \n",
    "            a2 = tf.layers.Conv2D(filters = filters, \n",
    "                                  kernel_size = kernel_size, \n",
    "                                  strides = (1,1),\n",
    "                                  dilation_rate=dilation_rate, \n",
    "                                  padding = 'SAME', \n",
    "                                  activation = self.activation, \n",
    "                                  kernel_initializer = tf.glorot_normal_initializer(),\n",
    "                                  bias_initializer = tf.random_uniform_initializer()\n",
    "                                 )(inputs=a1) \n",
    "        \n",
    "            a2 = tf.layers.BatchNormalization()(a2)   \n",
    "            \n",
    "            if pooling:\n",
    "                p1 = tf.layers.max_pooling2d(a2,\n",
    "                                             pool_size=kernel_size,\n",
    "                                             strides=kernel_size, \n",
    "                                             padding = 'SAME')\n",
    "                return a1, a2, p1\n",
    "            else:\n",
    "                return a1, a2\n",
    "    \n",
    "    \n",
    "    def _unet_conv_transpose(self, inputs_a, inputs_b, filters, name):\n",
    "        with tf.name_scope(name):\n",
    "            u1 = tf.layers.Conv2DTranspose(filters = filters,\n",
    "                                           kernel_size = kernel_size, \n",
    "                                           strides = kernel_size, \n",
    "                                           padding = 'SAME',\n",
    "                                           activation = None, \n",
    "                                           kernel_initializer = tf.glorot_normal_initializer(),\n",
    "                                           bias_initializer = tf.random_uniform_initializer()\n",
    "                                          )(inputs=inputs_a)\n",
    "            \n",
    "            u1 = tf.concat([u1, inputs_b], 3)\n",
    "            \n",
    "            a1 = tf.layers.Conv2D(filters = filters, \n",
    "                                  kernel_size = kernel_size,  \n",
    "                                  strides = (1,1),\n",
    "                                  dilation_rate=(1,1), \n",
    "                                  padding = 'SAME', \n",
    "                                  activation = self.activation, \n",
    "                                  kernel_initializer = tf.glorot_normal_initializer(),\n",
    "                                  bias_initializer = tf.random_uniform_initializer()\n",
    "                                 )(inputs=u1)\n",
    "            \n",
    "            a1 = tf.layers.BatchNormalization()(a1)\n",
    "            \n",
    "            a2 = tf.layers.Conv2D(filters = filters, \n",
    "                                  kernel_size = kernel_size,  \n",
    "                                  strides = (1,1),\n",
    "                                  dilation_rate=(1,1), \n",
    "                                  padding = 'SAME', \n",
    "                                  activation = self.activation, \n",
    "                                  kernel_initializer = tf.glorot_normal_initializer(),\n",
    "                                  bias_initializer = tf.random_uniform_initializer()\n",
    "                                 )(inputs=a1)  \n",
    "            \n",
    "            a2 = tf.layers.BatchNormalization()(a2) \n",
    "            return a1, a2\n",
    "    \n",
    "    \n",
    "    def _model_unet(self):\n",
    "\n",
    "        self.inputs = tf.layers.Input(tensor=self.x, name='input_layer')\n",
    "        self.a1, self.a2, self.p1 = self._unet_conv(self.inputs, 16, (2,2), True, 'unit_1')\n",
    "        self.a3, self.a4, self.p2 = self._unet_conv(self.p1, 32, (2,2), True, 'unit_2')\n",
    "        self.a5, self.a6, self.p3 = self._unet_conv(self.p2, 64, (2,2), True, 'unit_3')\n",
    "        self.a7, self.a8, self.p4 = self._unet_conv(self.p3, 256, (2,2), True, 'unit_4')        \n",
    "        self.a9, self.a10 = self._unet_conv(self.p4, 512, False, 'unit_5')\n",
    "        self.a11, self.a12 = self._unet_conv_transpose(self.a10, self.a8, 256, (2,2), 'unit_6')\n",
    "        self.a13, self.a14 = self._unet_conv_transpose(self.a12, self.a6, 64, (2,2), 'unit_7') \n",
    "        self.a15, self.a16 = self._unet_conv_transpose(self.a14, self.a4, 32, (2,2), 'unit_8') \n",
    "        self.a17, self.a18 = self._unet_conv_transpose(self.a16, self.a2, 16, (2,2), 'unit_9') \n",
    "        self.a19 = tf.layers.Conv2D(filters = 1,\n",
    "                                   kernel_size = (2,2),\n",
    "                                   strides = (1,1),\n",
    "                                   dilation_rate=(1,1),\n",
    "                                   padding = 'SAME',\n",
    "                                   activation = tf.nn.sigmoid,\n",
    "                                   kernel_initializer=tf.glorot_normal_initializer(),\n",
    "                                   bias_initializer=tf.random_uniform_initializer()\n",
    "                                   )(inputs=self.a18)    \n",
    "    \n",
    "    \n",
    "#     def _model_modified_unet(self):\n",
    "        \n",
    "#         self.inputs = tf.layers.Input(tensor=self.x, name='input_layer')\n",
    "#         self.a1, self.a2, self.p1 = self._unet_conv(self.inputs, 16, (2,2), True, 'unit_1')\n",
    "#         self.a3, self.a4, self.p2 = self._unet_conv(self.p1, 32, (2,2), True, 'unit_2')\n",
    "#         self.a5, self.a6, self.p3 = self._unet_conv(self.p2, 64, (2,2), True, 'unit_3')\n",
    "#         self.a7, self.a8, self.p4 = self._unet_conv(self.p3, 128, (2,2), True, 'unit_4')               \n",
    "        \n",
    "        \n",
    "#         self.a1, self.a2= self._unet_conv(self.inputs, 16, (2,2), (1,1), False, 'unit_1')\n",
    "#         self.a3, self.a4= self._unet_conv(self.p1, 32, (2,2), (1,1), False, 'unit_2')\n",
    "#         self.a5, self.a6= self._unet_conv(self.p2, 64, (2,2), (1,1), False, 'unit_3')\n",
    "#         self.a7, self.a8= self._unet_conv(self.p3, 256, (2,2), (1,1), False, 'unit_4') \n",
    "        \n",
    "        \n",
    "        \n",
    "    \n",
    "    \n",
    "    \n",
    "    \n",
    "    \n",
    "    def _ioumetric(self, y_pred, y_true):\n",
    "        y_pred_ = tf.to_int64(y_pred > 0.5)\n",
    "        y_true_ = tf.to_int64(y_true > 0.5)\n",
    "        score, update_opts = tf.metrics.mean_iou(labels=y_true_, \n",
    "                                                 predictions=y_pred_, \n",
    "                                                 num_classes=2)\n",
    "        with tf.control_dependencies([update_opts]):\n",
    "            score = tf.identity(score)\n",
    "        return score\n",
    "    \n",
    "    def _dice_iou(self, y_pred, y_true):\n",
    "        self.inter = tf.reduce_mean(tf.multiply(y_true, y_pred), name = 'inter')     \n",
    "\n",
    "        self.union_iou = tf.reduce_mean(tf.subtract(tf.add(y_true, y_pred), self.inter),\n",
    "                                        name = 'union_iou')\n",
    "        \n",
    "        self.iou = tf.div(self.inter, self.union_iou, \n",
    "                          name = 'iou')\n",
    "        \n",
    "        self.union_dice = tf.reduce_mean(tf.add(y_true, y_pred), \n",
    "                                         name='union_dice') \n",
    "        \n",
    "        self.dice = tf.multiply(tf.constant(2.0, dtype=tf.float32), \n",
    "                                tf.div(self.inter, self.union_dice), \n",
    "                                name = 'dice')\n",
    "        \n",
    "        return self.iou, self.dice\n",
    "    \n",
    "    \n",
    "    def _loss(self):\n",
    "        with tf.name_scope('loss'):\n",
    "            self.bce = tf.reduce_mean(tf.keras.losses.binary_crossentropy(self.y, self.a19), \n",
    "                                     name='bce')            \n",
    "            self.iou, self.dice = self._dice_iou(self.a19, self.y)            \n",
    "            self.log_dice = tf.log(self.dice, name='log_dice')\n",
    "            \n",
    "            self.loss = tf.subtract(self.bce, self.log_dice, name='loss')  \n",
    "            #self.loss = tf.subtract(tf.constant(1.0, dtype=tf.float32), self.iou, name='loss') \n",
    "            #self.loss = self.bce\n",
    "            self.score = self._ioumetric(self.a19, self.y)        \n",
    "        \n",
    "    def _optimizer(self):\n",
    "        self.optimizer = tf.train.AdamOptimizer(self.learning_rate).minimize(self.loss,\n",
    "                                                                             global_step=self.global_step)\n",
    "\n",
    "        \n",
    "    def _summaries(self):\n",
    "        tf.summary.scalar('loss', self.loss)\n",
    "        tf.summary.histogram('histogram_loss', self.loss)\n",
    "        tf.summary.scalar('score', self.score)\n",
    "        tf.summary.histogram('histogram_score', self.score)\n",
    "        \n",
    "        tf.summary.scalar('lr', self.learning_rate)\n",
    "        self.summary_op = tf.summary.merge_all()\n",
    "    \n",
    "    def _saver(self):\n",
    "        self.saver = tf.train.Saver(name='saver')\n",
    "        \n",
    "    def _build_graph(self):\n",
    "        self._input_data()\n",
    "        self._model_unet()\n",
    "        self._loss()\n",
    "        self._optimizer()\n",
    "        self._summaries()\n",
    "        self._saver()\n",
    "        print(\"Computation graph build completed...\", end='\\n')\n",
    "\n",
    "    def _reset_graph(self):\n",
    "        tf.reset_default_graph()\n",
    "\n",
    "    def _inference(self, test_data, graphdir, name):\n",
    "        self._reset_graph()\n",
    "        self.saver = tf.train.import_meta_graph(graphdir)\n",
    "        self.graph = tf.get_default_graph()\n",
    "        \n",
    "        self.x = self.graph.get_tensor_by_name(\"input/input_x:0\")\n",
    "        self.a19 = self.graph.get_tensor_by_name(\"conv2d/Sigmoid:0\")\n",
    "        self.preds=[]\n",
    "        with tf.Session() as self.sess:            \n",
    "            self.saver.restore(self.sess, tf.train.latest_checkpoint(PARAMS + name))\n",
    "            feed_dict = {self.x : test_data}\n",
    "            pred = self.sess.run(self.a19, feed_dict=feed_dict)            \n",
    "            self.preds.append(pred)\n",
    "        \n",
    "        self.preds = np.squeeze(np.array(self.preds), axis=0).astype(np.float32)\n",
    "        \n",
    "    \n",
    "    def _train(self, train_data, valid_data, name):\n",
    "        print('Training...', end='\\n')\n",
    "\n",
    "        initial_step = 0        \n",
    "        with tf.Session() as self.sess:\n",
    "            self.sess.run(tf.global_variables_initializer())\n",
    "            self.sess.run(tf.local_variables_initializer())\n",
    "            writer_train = tf.summary.FileWriter(LOGDIR + name + '/train/')\n",
    "            writer_valid = tf.summary.FileWriter(LOGDIR + name + '/valid/')\n",
    "            writer_train.add_graph(self.sess.graph)            \n",
    "            writer_valid.add_graph(self.sess.graph)\n",
    "            \n",
    "            min_loss = 1e16\n",
    "            j = 0\n",
    "            lr = 0\n",
    "            \n",
    "            for i in range(self.epochs):                \n",
    "                gen = self._batch_gen(train_data, batch_size=self.batch_size, train=True, shuffle=True)\n",
    "                #gen = self._image_augmentation(train_data, batch_size=self.batch_size, train=True, seed= (i+1))\n",
    "                average_loss = 0.0\n",
    "                average_valid_loss = 0.0\n",
    "                \n",
    "                feed_dict_valid = {self.x: valid_data[0], self.y: valid_data[1]}\n",
    "                \n",
    "                for k, (batch_x, batch_y) in enumerate(gen):\n",
    "                    \n",
    "                    lr = self._cyclic_lr(j)                    \n",
    "                    feed_dict_train = {self.x: batch_x, self.y: batch_y}                    \n",
    "                    loss, mean_iou, _ = self.sess.run([self.loss, self.score, self.optimizer], feed_dict=feed_dict_train)                    \n",
    "                    valid_loss = self.sess.run(self.loss, feed_dict=feed_dict_valid)                    \n",
    "                    average_loss += loss\n",
    "                    average_valid_loss += valid_loss\n",
    "                                      \n",
    "                    if j % 10 == 0:\n",
    "                        s_train = self.sess.run(self.summary_op, feed_dict=feed_dict_train)\n",
    "                        s_valid = self.sess.run(self.summary_op, feed_dict=feed_dict_valid)\n",
    "                        writer_train.add_summary(s_train, j)\n",
    "                        writer_valid.add_summary(s_valid, j)                       \n",
    "  \n",
    "                    j +=1\n",
    "                    if k > 30:\n",
    "                        break\n",
    "            \n",
    "                if average_loss < min_loss:\n",
    "                    min_loss = average_loss\n",
    "                    self.saver.save(self.sess, os.path.join(PARAMS + name, \"unet_best.ckpt\"), i)\n",
    "                    self.saver.save(self.sess, PARAMS + name + '/unet_best_', global_step=self.global_step)\n",
    "                \n",
    "                print(\"Epoch {} Training Loss: {:.4f} Validation Loss: {:.4f} Score: {:.4f}\".format(i, average_loss / (k+1), average_valid_loss / (k+1), mean_iou), end='\\r')"
   ]
  },
  {
   "cell_type": "markdown",
   "metadata": {},
   "source": [
    "## Model Training"
   ]
  },
  {
   "cell_type": "code",
   "execution_count": 7,
   "metadata": {},
   "outputs": [],
   "source": [
    "def main(X_train, y_train, X_valid, y_valid, X_test, name):    \n",
    "    model = u_net(learning_rate = 1e-3, batch_size=32, epochs=300, dimension=DIMENSION)\n",
    "    model._build_graph()\n",
    "    model._train((X_train, y_train), (X_valid, y_valid), name)\n",
    "    return model"
   ]
  },
  {
   "cell_type": "code",
   "execution_count": 8,
   "metadata": {
    "scrolled": false
   },
   "outputs": [
    {
     "name": "stdout",
     "output_type": "stream",
     "text": [
      "WARNING:tensorflow:From /usr/local/lib/python3.5/dist-packages/tensorflow/python/keras/_impl/keras/backend.py:1557: calling reduce_mean (from tensorflow.python.ops.math_ops) with keep_dims is deprecated and will be removed in a future version.\n",
      "Instructions for updating:\n",
      "keep_dims is deprecated, use keepdims instead\n",
      "Computation graph build completed...\n",
      "Training...\n",
      "Epoch 299 Training Loss: 0.0805 Validation Loss: 0.2730 Score: 0.8724\r"
     ]
    }
   ],
   "source": [
    "X_train, X_valid, y_train, y_valid = train_test_split(X_train, y_train, test_size = 0.3, random_state = 140)\n",
    "model = main(X_train, y_train, X_valid, y_valid, X_test, '_1')"
   ]
  },
  {
   "cell_type": "markdown",
   "metadata": {},
   "source": [
    "## Inference"
   ]
  },
  {
   "cell_type": "code",
   "execution_count": 10,
   "metadata": {},
   "outputs": [
    {
     "name": "stdout",
     "output_type": "stream",
     "text": [
      "INFO:tensorflow:Restoring parameters from ./params/_1/unet_best_-4410\n"
     ]
    }
   ],
   "source": [
    "model._inference(X_test, PARAMS + '_1/' + 'unet_best_-4410.meta', '_1')\n",
    "preds = model.preds"
   ]
  },
  {
   "cell_type": "markdown",
   "metadata": {},
   "source": [
    "## Post Processing"
   ]
  },
  {
   "cell_type": "code",
   "execution_count": 11,
   "metadata": {},
   "outputs": [],
   "source": []
  },
  {
   "cell_type": "code",
   "execution_count": 12,
   "metadata": {},
   "outputs": [],
   "source": [
    "preds = (preds > 0.5).astype(np.uint8)"
   ]
  },
  {
   "cell_type": "code",
   "execution_count": 13,
   "metadata": {
    "scrolled": false
   },
   "outputs": [],
   "source": [
    "final_mask = mask_post_process(TEST_PATH, TEST_ID, DIMENSION, preds)"
   ]
  },
  {
   "cell_type": "code",
   "execution_count": 14,
   "metadata": {
    "scrolled": true
   },
   "outputs": [
    {
     "data": {
      "image/png": "[encoded data removed]",
      "text/plain": [
       "<matplotlib.figure.Figure at 0x7f38808e7c18>"
      ]
     },
     "metadata": {},
     "output_type": "display_data"
    }
   ],
   "source": [
    "plt.imshow(preds[5,:,:,0])\n",
    "plt.show()\n"
   ]
  },
  {
   "cell_type": "code",
   "execution_count": 15,
   "metadata": {},
   "outputs": [
    {
     "data": {
      "image/png": "[encoded data removed]",
      "text/plain": [
       "<matplotlib.figure.Figure at 0x7f390489a208>"
      ]
     },
     "metadata": {},
     "output_type": "display_data"
    }
   ],
   "source": [
    "plt.imshow(X_test[5,:,:,:])\n",
    "plt.show()"
   ]
  },
  {
   "cell_type": "code",
   "execution_count": 16,
   "metadata": {},
   "outputs": [
    {
     "data": {
      "image/png": "[encoded data removed]",
      "text/plain": [
       "<matplotlib.figure.Figure at 0x7f39046d9eb8>"
      ]
     },
     "metadata": {},
     "output_type": "display_data"
    }
   ],
   "source": [
    "plt.imshow(final_mask[5][:,:,0], cmap='gray')\n",
    "plt.show()"
   ]
  },
  {
   "cell_type": "code",
   "execution_count": 17,
   "metadata": {
    "scrolled": true
   },
   "outputs": [],
   "source": [
    "new_test_ids = []\n",
    "rles = []\n",
    "\n",
    "for n, id_ in enumerate(TEST_ID):\n",
    "    rle = list(prob_to_rles(final_mask[n]))\n",
    "    rles.extend(rle)\n",
    "    new_test_ids.extend([id_]*len(rle))"
   ]
  },
  {
   "cell_type": "markdown",
   "metadata": {},
   "source": [
    "## Submission"
   ]
  },
  {
   "cell_type": "code",
   "execution_count": 18,
   "metadata": {},
   "outputs": [],
   "source": [
    "sub = pd.DataFrame()\n",
    "sub['ImageId'] = new_test_ids\n",
    "sub['EncodedPixels'] = pd.Series(rles).apply(lambda x: ' '.join(str(y) for y in x))\n",
    "sub.to_csv('./submission/sub-dsbowl2018-test.csv', index=False)"
   ]
  },
  {
   "cell_type": "code",
   "execution_count": null,
   "metadata": {},
   "outputs": [],
   "source": []
  }
 ],
 "metadata": {
  "kernelspec": {
   "display_name": "Python 3",
   "language": "python",
   "name": "python3"
  },
  "language_info": {
   "codemirror_mode": {
    "name": "ipython",
    "version": 3
   },
   "file_extension": ".py",
   "mimetype": "text/x-python",
   "name": "python",
   "nbconvert_exporter": "python",
   "pygments_lexer": "ipython3",
   "version": "3.5.2"
  }
 },
 "nbformat": 4,
 "nbformat_minor": 2
}
